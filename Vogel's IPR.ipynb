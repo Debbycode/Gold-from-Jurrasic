{
 "cells": [
  {
   "cell_type": "code",
   "execution_count": 1,
   "metadata": {},
   "outputs": [],
   "source": [
    "import numpy as np\n",
    "import matplotlib.pyplot as plt\n",
    "import pandas as pd"
   ]
  },
  {
   "cell_type": "code",
   "execution_count": 2,
   "metadata": {},
   "outputs": [
    {
     "name": "stdout",
     "output_type": "stream",
     "text": [
      "Enter Porosity0.19\n",
      "Enter Perm.(md)8.2\n",
      "Enter pay zone thicknes(Feet)53\n",
      "Enter  Reservoir Pressure(psi)5651\n",
      "Enter Bubble Point Pressure(psi)5651\n",
      "Enter Formation Volume Factor1.1\n",
      "Enter fluid viscosity(cp)1.7\n",
      "Enter Total Compressibility(psi-1)0.0000129\n",
      "Enter Drainage Area(Acres)640\n",
      "Enter Wellbore radius(ft)0.328\n",
      "Enter Skin Factor0\n"
     ]
    }
   ],
   "source": [
    "porosity = float(input(\"Enter Porosity\"))\n",
    "K = float(input(\"Enter Perm.(md)\"))\n",
    "h = float(input(\"Enter pay zone thicknes(Feet)\"))\n",
    "P = float(input(\"Enter  Reservoir Pressure(psi)\"))\n",
    "Pb = float(input(\"Enter Bubble Point Pressure(psi)\"))\n",
    "Bo = float(input(\"Enter Formation Volume Factor\"))\n",
    "Viscosity  = float(input(\"Enter fluid viscosity(cp)\"))\n",
    "ct = float(input(\"Enter Total Compressibility(psi-1)\"))\n",
    "A = float(input(\"Enter Drainage Area(Acres)\"))\n",
    "re = np.sqrt(43560*A/3.14)\n",
    "rw = float(input(\"Enter Wellbore radius(ft)\"))\n",
    "S = float(input(\"Enter Skin Factor\"))"
   ]
  },
  {
   "cell_type": "code",
   "execution_count": 3,
   "metadata": {},
   "outputs": [
    {
     "name": "stdout",
     "output_type": "stream",
     "text": [
      "The value of productivity index is 0.19678102247296522\n"
     ]
    }
   ],
   "source": [
    "J = K*h/(141.2*Bo*Viscosity*(np.log(re/rw)-0.75+S))\n",
    "print(\"The value of productivity index is\", J)\n"
   ]
  },
  {
   "cell_type": "code",
   "execution_count": 5,
   "metadata": {},
   "outputs": [
    {
     "name": "stdout",
     "output_type": "stream",
     "text": [
      "The value of Qmax is  617.783087774848 stb/day\n"
     ]
    }
   ],
   "source": [
    "qmax = J*P/1.8\n",
    "print(\"The value of Qmax is \", qmax, \"stb/day\")"
   ]
  },
  {
   "cell_type": "code",
   "execution_count": 34,
   "metadata": {},
   "outputs": [
    {
     "data": {
      "text/plain": [
       "array([5651, 5000, 4500, 4000, 3500, 3000, 2500, 2000, 1500, 1000,  500,\n",
       "          0])"
      ]
     },
     "execution_count": 34,
     "metadata": {},
     "output_type": "execute_result"
    }
   ],
   "source": [
    "a = np.arange(0,5500,500)\n",
    "b = np.append(a,5651)\n",
    "pwf = b[-1::-1]\n",
    "pwf"
   ]
  },
  {
   "cell_type": "code",
   "execution_count": 39,
   "metadata": {},
   "outputs": [
    {
     "data": {
      "text/plain": [
       "array([  0.        , 121.54544965, 205.99154977, 282.69935293,\n",
       "       351.66885914, 412.90006839, 466.39298068, 512.14759601,\n",
       "       550.16391439, 580.44193581, 602.98166027, 617.78308777])"
      ]
     },
     "execution_count": 39,
     "metadata": {},
     "output_type": "execute_result"
    }
   ],
   "source": [
    "flowrate = []\n",
    "for i in pwf:\n",
    "    q = qmax*(1-0.2*(i/P)-0.8*((i/P)**2))\n",
    "    flowrate.append(q)\n",
    "flowrates = np.array(flowrate)\n",
    "flowrates"
   ]
  },
  {
   "cell_type": "code",
   "execution_count": 44,
   "metadata": {},
   "outputs": [
    {
     "data": {
      "text/html": [
       "<div>\n",
       "<style scoped>\n",
       "    .dataframe tbody tr th:only-of-type {\n",
       "        vertical-align: middle;\n",
       "    }\n",
       "\n",
       "    .dataframe tbody tr th {\n",
       "        vertical-align: top;\n",
       "    }\n",
       "\n",
       "    .dataframe thead th {\n",
       "        text-align: right;\n",
       "    }\n",
       "</style>\n",
       "<table border=\"1\" class=\"dataframe\">\n",
       "  <thead>\n",
       "    <tr style=\"text-align: right;\">\n",
       "      <th></th>\n",
       "      <th>0</th>\n",
       "    </tr>\n",
       "  </thead>\n",
       "  <tbody>\n",
       "    <tr>\n",
       "      <td>5651</td>\n",
       "      <td>0.000000</td>\n",
       "    </tr>\n",
       "    <tr>\n",
       "      <td>5000</td>\n",
       "      <td>121.545450</td>\n",
       "    </tr>\n",
       "    <tr>\n",
       "      <td>4500</td>\n",
       "      <td>205.991550</td>\n",
       "    </tr>\n",
       "    <tr>\n",
       "      <td>4000</td>\n",
       "      <td>282.699353</td>\n",
       "    </tr>\n",
       "    <tr>\n",
       "      <td>3500</td>\n",
       "      <td>351.668859</td>\n",
       "    </tr>\n",
       "    <tr>\n",
       "      <td>3000</td>\n",
       "      <td>412.900068</td>\n",
       "    </tr>\n",
       "    <tr>\n",
       "      <td>2500</td>\n",
       "      <td>466.392981</td>\n",
       "    </tr>\n",
       "    <tr>\n",
       "      <td>2000</td>\n",
       "      <td>512.147596</td>\n",
       "    </tr>\n",
       "    <tr>\n",
       "      <td>1500</td>\n",
       "      <td>550.163914</td>\n",
       "    </tr>\n",
       "    <tr>\n",
       "      <td>1000</td>\n",
       "      <td>580.441936</td>\n",
       "    </tr>\n",
       "    <tr>\n",
       "      <td>500</td>\n",
       "      <td>602.981660</td>\n",
       "    </tr>\n",
       "    <tr>\n",
       "      <td>0</td>\n",
       "      <td>617.783088</td>\n",
       "    </tr>\n",
       "  </tbody>\n",
       "</table>\n",
       "</div>"
      ],
      "text/plain": [
       "               0\n",
       "5651    0.000000\n",
       "5000  121.545450\n",
       "4500  205.991550\n",
       "4000  282.699353\n",
       "3500  351.668859\n",
       "3000  412.900068\n",
       "2500  466.392981\n",
       "2000  512.147596\n",
       "1500  550.163914\n",
       "1000  580.441936\n",
       "500   602.981660\n",
       "0     617.783088"
      ]
     },
     "execution_count": 44,
     "metadata": {},
     "output_type": "execute_result"
    }
   ],
   "source": [
    "df = pd.DataFrame(flowrates,pwf)\n",
    "df"
   ]
  },
  {
   "cell_type": "code",
   "execution_count": 46,
   "metadata": {},
   "outputs": [
    {
     "data": {
      "image/png": "[encoded data removed]",
      "text/plain": [
       "<Figure size 432x288 with 1 Axes>"
      ]
     },
     "metadata": {
      "needs_background": "light"
     },
     "output_type": "display_data"
    }
   ],
   "source": [
    "plt.figure()\n",
    "plt.plot(flowrates,pwf)\n",
    "plt.xlabel(\"Flowrate(stb/day)\")\n",
    "plt.ylabel(\"pwf(psia)\")\n",
    "plt.title(\"Vogel's IPR for Saturated Reservoir\")\n",
    "plt.show()"
   ]
  },
  {
   "cell_type": "code",
   "execution_count": null,
   "metadata": {},
   "outputs": [],
   "source": [
    "##Jaiyesh Chahar"
   ]
  }
 ],
 "metadata": {
  "kernelspec": {
   "display_name": "Python 3",
   "language": "python",
   "name": "python3"
  },
  "language_info": {
   "codemirror_mode": {
    "name": "ipython",
    "version": 3
   },
   "file_extension": ".py",
   "mimetype": "text/x-python",
   "name": "python",
   "nbconvert_exporter": "python",
   "pygments_lexer": "ipython3",
   "version": "3.7.4"
  }
 },
 "nbformat": 4,
 "nbformat_minor": 2
}
